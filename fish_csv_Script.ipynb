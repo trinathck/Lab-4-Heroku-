{
 "cells": [
  {
   "cell_type": "code",
   "execution_count": 10,
   "id": "cf1e763a",
   "metadata": {},
   "outputs": [
    {
     "name": "stdout",
     "output_type": "stream",
     "text": [
      "Choose a category for prediction (weight, length, hw): length\n",
      "Enter the length1 of the fish: 500\n",
      "Enter the length2 of the fish: 200\n",
      "Enter the length3 of the fish: 25\n",
      "Predicted species: Perch\n"
     ]
    }
   ],
   "source": [
    "from sklearn.tree import DecisionTreeClassifier\n",
    "# Load the trained model\n",
    "import joblib\n",
    "import numpy as np\n",
    "import warnings\n",
    "\n",
    "model_weight = joblib.load(\"decision_tree_weight.pkl\")\n",
    "model_length = joblib.load(\"decision_tree_length.pkl\")\n",
    "model_hw = joblib.load(\"decision_tree_hw.pkl\")\n",
    "\n",
    "def predict_species(weight):\n",
    "    weight_array = np.array([weight]).reshape(1, -1)   \n",
    "    predicted_species = model_weight.predict(weight_array)[0]  \n",
    "    return predicted_species\n",
    "\n",
    "\n",
    "def predict_species_length(length1, length2, length3):    \n",
    "    length_data = np.array([[length1, length2, length3]])  \n",
    "    predicted_species_length = model_length.predict(length_data)[0] \n",
    "    return predicted_species_length\n",
    "\n",
    "\n",
    "def predict_species_hw(height, width):  \n",
    "    hw_data = np.array([[height, width]])  \n",
    "    predicted_species = model_hw.predict(hw_data)[0] \n",
    "    return predicted_species\n",
    "\n",
    "\n",
    "def main():\n",
    "    \n",
    "    category = input(\"Choose a category for prediction (weight, length, hw): \").lower()\n",
    "    if category == 'weight':\n",
    "        weight = float(input(\"Enter the weight of the fish: \"))\n",
    "        predicted_species = predict_species(weight)\n",
    "    elif category == 'length':\n",
    "        length1 = float(input(\"Enter the length1 of the fish: \"))\n",
    "        length2 = float(input(\"Enter the length2 of the fish: \"))\n",
    "        length3 = float(input(\"Enter the length3 of the fish: \"))\n",
    "        predicted_species = predict_species_length(length1, length2, length3)\n",
    "    elif category == 'hw':\n",
    "        height = float(input(\"Enter the height of the fish: \"))\n",
    "        width = float(input(\"Enter the width of the fish: \"))\n",
    "        predicted_species = predict_species_hw(height, width)\n",
    "    else:\n",
    "        print(\"Invalid category selected. Please choose 'weight', 'length', or 'hw'.\")\n",
    "        return\n",
    "    print(\"Predicted species:\", predicted_species)\n",
    "warnings.filterwarnings(\"ignore\", category=UserWarning)\n",
    "\n",
    "if __name__ == \"__main__\":\n",
    "    main()"
   ]
  },
  {
   "cell_type": "code",
   "execution_count": null,
   "id": "0ae28d65",
   "metadata": {},
   "outputs": [],
   "source": []
  }
 ],
 "metadata": {
  "kernelspec": {
   "display_name": "Python 3 (ipykernel)",
   "language": "python",
   "name": "python3"
  },
  "language_info": {
   "codemirror_mode": {
    "name": "ipython",
    "version": 3
   },
   "file_extension": ".py",
   "mimetype": "text/x-python",
   "name": "python",
   "nbconvert_exporter": "python",
   "pygments_lexer": "ipython3",
   "version": "3.11.4"
  }
 },
 "nbformat": 4,
 "nbformat_minor": 5
}
